{
  "nbformat": 4,
  "nbformat_minor": 0,
  "metadata": {
    "colab": {
      "provenance": [],
      "gpuType": "T4"
    },
    "kernelspec": {
      "name": "python3",
      "display_name": "Python 3"
    },
    "language_info": {
      "name": "python"
    },
    "accelerator": "GPU"
  },
  "cells": [
    {
      "cell_type": "code",
      "execution_count": 1,
      "metadata": {
        "id": "3m1Iwz36BhtE",
        "colab": {
          "base_uri": "https://localhost:8080/"
        },
        "outputId": "a7f0285e-d61b-48ee-827a-d9e5021c7ea3"
      },
      "outputs": [
        {
          "output_type": "stream",
          "name": "stdout",
          "text": [
            "Cloning into 'Classifier_motorbikes_bicycles'...\n",
            "remote: Enumerating objects: 43, done.\u001b[K\n",
            "remote: Counting objects: 100% (43/43), done.\u001b[K\n",
            "remote: Compressing objects: 100% (34/34), done.\u001b[K\n",
            "remote: Total 43 (delta 7), reused 43 (delta 7), pack-reused 0\u001b[K\n",
            "Receiving objects: 100% (43/43), 362.93 KiB | 6.37 MiB/s, done.\n",
            "Resolving deltas: 100% (7/7), done.\n"
          ]
        }
      ],
      "source": [
        "!git clone https://github.com/tiamo405/Classifier_motorbikes_bicycles.git"
      ]
    },
    {
      "cell_type": "code",
      "source": [
        "cd /content/Classifier_motorbikes_bicycles"
      ],
      "metadata": {
        "colab": {
          "base_uri": "https://localhost:8080/"
        },
        "id": "kJvdo9VmiAr9",
        "outputId": "bf410c9a-400c-4dfb-e480-ba41ba291a05"
      },
      "execution_count": 2,
      "outputs": [
        {
          "output_type": "stream",
          "name": "stdout",
          "text": [
            "/content/Classifier_motorbikes_bicycles\n"
          ]
        }
      ]
    },
    {
      "cell_type": "code",
      "source": [
        "mkdir checkpoints"
      ],
      "metadata": {
        "id": "ubvIVppDnXDv"
      },
      "execution_count": 3,
      "outputs": []
    },
    {
      "cell_type": "code",
      "source": [
        "import gdown\n",
        "\n",
        "gdown.download(id = '13LH0hJtwy_Dnnhv77jjXtJUJxpMi8kbv',output = 'checkpoints/best.pth', quiet=False)\n",
        "\n"
      ],
      "metadata": {
        "colab": {
          "base_uri": "https://localhost:8080/",
          "height": 105
        },
        "id": "V9W6DGdZiSbi",
        "outputId": "be26dd13-32c8-4475-9c2c-af5e7fd6a528"
      },
      "execution_count": 5,
      "outputs": [
        {
          "output_type": "stream",
          "name": "stderr",
          "text": [
            "Downloading...\n",
            "From: https://drive.google.com/uc?id=13LH0hJtwy_Dnnhv77jjXtJUJxpMi8kbv\n",
            "To: /content/Classifier_motorbikes_bicycles/checkpoints/best.pth\n",
            "100%|██████████| 511M/511M [00:06<00:00, 77.6MB/s]\n"
          ]
        },
        {
          "output_type": "execute_result",
          "data": {
            "text/plain": [
              "'checkpoints/best.pth'"
            ],
            "application/vnd.google.colaboratory.intrinsic+json": {
              "type": "string"
            }
          },
          "metadata": {},
          "execution_count": 5
        }
      ]
    },
    {
      "cell_type": "code",
      "source": [
        "!mkdir image_test"
      ],
      "metadata": {
        "id": "wDCqQGnsvi_K"
      },
      "execution_count": 6,
      "outputs": []
    },
    {
      "cell_type": "code",
      "source": [
        "gdown.download(id = '1FT4V6ZDj9zzthxr7WB7p1HuS2j8Intyc', output = 'image_test/xedap_0992.jpg', quiet=False)\n",
        "gdown.download(id = '1ah_9gbD_JHS-p7gjEKmrEVlIKG7zWEw7', output = 'image_test/xemay_1000.jpg', quiet=False)\n"
      ],
      "metadata": {
        "colab": {
          "base_uri": "https://localhost:8080/",
          "height": 174
        },
        "id": "b5EGQjE9voxJ",
        "outputId": "91a6eb77-e6ba-416b-8593-d10fe57e1d75"
      },
      "execution_count": 7,
      "outputs": [
        {
          "output_type": "stream",
          "name": "stderr",
          "text": [
            "Downloading...\n",
            "From: https://drive.google.com/uc?id=1FT4V6ZDj9zzthxr7WB7p1HuS2j8Intyc\n",
            "To: /content/Classifier_motorbikes_bicycles/image_test/xedap_0992.jpg\n",
            "100%|██████████| 20.7k/20.7k [00:00<00:00, 8.90MB/s]\n",
            "Downloading...\n",
            "From: https://drive.google.com/uc?id=1ah_9gbD_JHS-p7gjEKmrEVlIKG7zWEw7\n",
            "To: /content/Classifier_motorbikes_bicycles/image_test/xemay_1000.jpg\n",
            "100%|██████████| 26.5k/26.5k [00:00<00:00, 27.7MB/s]\n"
          ]
        },
        {
          "output_type": "execute_result",
          "data": {
            "text/plain": [
              "'image_test/xemay_1000.jpg'"
            ],
            "application/vnd.google.colaboratory.intrinsic+json": {
              "type": "string"
            }
          },
          "metadata": {},
          "execution_count": 7
        }
      ]
    },
    {
      "cell_type": "code",
      "source": [
        "!python predict.py --image /content/Classifier_motorbikes_bicycles/image_test/xedap_0992.jpg --checkpoint_dir /content/Classifier_motorbikes_bicycles/checkpoints/best.pth"
      ],
      "metadata": {
        "colab": {
          "base_uri": "https://localhost:8080/"
        },
        "id": "OVGFHQ6huk2_",
        "outputId": "3f1ac6c2-1d1c-4297-df71-23a33aa80ced"
      },
      "execution_count": 10,
      "outputs": [
        {
          "output_type": "stream",
          "name": "stdout",
          "text": [
            "/usr/local/lib/python3.10/dist-packages/torchvision/models/_utils.py:208: UserWarning: The parameter 'pretrained' is deprecated since 0.13 and may be removed in the future, please use 'weights' instead.\n",
            "  warnings.warn(\n",
            "/usr/local/lib/python3.10/dist-packages/torchvision/models/_utils.py:223: UserWarning: Arguments other than a weight enum or `None` for 'weights' are deprecated since 0.13 and may be removed in the future. The current behavior is equivalent to passing `weights=None`.\n",
            "  warnings.warn(msg)\n",
            "Start ...\n",
            "path_image: /content/Classifier_motorbikes_bicycles/image_test/xedap_0992.jpg \n",
            "label : xedap \n",
            "xac xuat: 0.9999408721923828\n"
          ]
        }
      ]
    },
    {
      "cell_type": "code",
      "source": [
        "!python predict.py --image /content/Classifier_motorbikes_bicycles/image_test/xemay_1000.jpg --checkpoint_dir /content/Classifier_motorbikes_bicycles/checkpoints/best.pth"
      ],
      "metadata": {
        "colab": {
          "base_uri": "https://localhost:8080/"
        },
        "id": "Rc8OZOHhwNtJ",
        "outputId": "07392ff3-e7b2-4520-f7d3-e1b144465455"
      },
      "execution_count": 11,
      "outputs": [
        {
          "output_type": "stream",
          "name": "stdout",
          "text": [
            "/usr/local/lib/python3.10/dist-packages/torchvision/models/_utils.py:208: UserWarning: The parameter 'pretrained' is deprecated since 0.13 and may be removed in the future, please use 'weights' instead.\n",
            "  warnings.warn(\n",
            "/usr/local/lib/python3.10/dist-packages/torchvision/models/_utils.py:223: UserWarning: Arguments other than a weight enum or `None` for 'weights' are deprecated since 0.13 and may be removed in the future. The current behavior is equivalent to passing `weights=None`.\n",
            "  warnings.warn(msg)\n",
            "Start ...\n",
            "path_image: /content/Classifier_motorbikes_bicycles/image_test/xemay_1000.jpg \n",
            "label : xemay \n",
            "xac xuat: 0.9999854564666748\n"
          ]
        }
      ]
    }
  ]
}